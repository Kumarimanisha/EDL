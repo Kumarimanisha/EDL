{
 "cells": [
  {
   "cell_type": "code",
   "execution_count": 1,
   "id": "db0dc305",
   "metadata": {},
   "outputs": [],
   "source": [
    "import numpy as np\n"
   ]
  },
  {
   "cell_type": "code",
   "execution_count": 2,
   "id": "2e83b9a3",
   "metadata": {},
   "outputs": [
    {
     "name": "stdout",
     "output_type": "stream",
     "text": [
      "1.21.5\n"
     ]
    }
   ],
   "source": [
    "print(np.__version__)"
   ]
  },
  {
   "cell_type": "code",
   "execution_count": 3,
   "id": "93f888bc",
   "metadata": {},
   "outputs": [
    {
     "name": "stdout",
     "output_type": "stream",
     "text": [
      "<class 'numpy.ndarray'>\n"
     ]
    }
   ],
   "source": [
    "a=np.arange(2,10)#creates numpy array using .arange() functions\n",
    "print(type(a))"
   ]
  },
  {
   "cell_type": "code",
   "execution_count": 4,
   "id": "29c97ddd",
   "metadata": {},
   "outputs": [
    {
     "name": "stdout",
     "output_type": "stream",
     "text": [
      "<class 'numpy.ndarray'>\n"
     ]
    }
   ],
   "source": [
    "b=np.array([1,2,3,4])# creating numpy array using np.array() function\n",
    "print(type(b))"
   ]
  },
  {
   "cell_type": "code",
   "execution_count": 5,
   "id": "7a850b5c",
   "metadata": {},
   "outputs": [
    {
     "data": {
      "text/plain": [
       "array([1.        , 1.14285714, 1.28571429, 1.42857143, 1.57142857,\n",
       "       1.71428571, 1.85714286, 2.        , 2.14285714, 2.28571429,\n",
       "       2.42857143, 2.57142857, 2.71428571, 2.85714286, 3.        ])"
      ]
     },
     "execution_count": 5,
     "metadata": {},
     "output_type": "execute_result"
    }
   ],
   "source": [
    "m=np.linspace(1,3,15)#creating numpy array using linspace to generate15 equally spaced points from 1 to 3\n",
    "m"
   ]
  },
  {
   "cell_type": "code",
   "execution_count": 9,
   "id": "8e41a782",
   "metadata": {},
   "outputs": [
    {
     "name": "stdout",
     "output_type": "stream",
     "text": [
      "[[0 1]\n",
      " [2 3]]\n"
     ]
    },
    {
     "data": {
      "text/plain": [
       "array([[1., 1., 1.],\n",
       "       [5., 5., 5.]])"
      ]
     },
     "execution_count": 9,
     "metadata": {},
     "output_type": "execute_result"
    }
   ],
   "source": [
    "c=np.arange(4).reshape(2,2)\n",
    "m=np.ones((2,3))\n",
    "print(c)\n",
    "np.matmul(c,m)"
   ]
  },
  {
   "cell_type": "code",
   "execution_count": 10,
   "id": "6fdaaf26",
   "metadata": {},
   "outputs": [
    {
     "data": {
      "text/plain": [
       "array([2, 4])"
      ]
     },
     "execution_count": 10,
     "metadata": {},
     "output_type": "execute_result"
    }
   ],
   "source": [
    "c.sum(axis=0)"
   ]
  },
  {
   "cell_type": "code",
   "execution_count": 11,
   "id": "6f5f61ce",
   "metadata": {},
   "outputs": [
    {
     "data": {
      "text/plain": [
       "array([1, 3])"
      ]
     },
     "execution_count": 11,
     "metadata": {},
     "output_type": "execute_result"
    }
   ],
   "source": [
    "a[a%2==1]#getting all odd numbers from the array\n",
    "c[c%2==1]#getting all odd numbers from the array"
   ]
  },
  {
   "cell_type": "code",
   "execution_count": 16,
   "id": "17b0ad1e",
   "metadata": {},
   "outputs": [
    {
     "data": {
      "text/plain": [
       "array([-1, -1,  4, -1,  6, -1,  8, -1])"
      ]
     },
     "execution_count": 16,
     "metadata": {},
     "output_type": "execute_result"
    }
   ],
   "source": [
    "a[a%2==1]= -1 # replacing values based on some conditions\n",
    "a"
   ]
  },
  {
   "cell_type": "code",
   "execution_count": 17,
   "id": "f06f2f2c",
   "metadata": {},
   "outputs": [
    {
     "name": "stdout",
     "output_type": "stream",
     "text": [
      "[-1 -1  4 -1  6 -1  8 -1]\n",
      "[10 -1  4 -1  6 -1  8 -1]\n"
     ]
    }
   ],
   "source": [
    "a\n",
    "# create a copy of the original array using the copy() method\n",
    "copied_array = a.copy()\n",
    "# modify the copied array\n",
    "copied_array[0] = 10\n",
    "# print the original and copied arrays\n",
    "print(a)  # array('i', [1, 2, 3, 4, 5])\n",
    "print(copied_array)    # array('i', [10, 2, 3, 4, 5])"
   ]
  },
  {
   "cell_type": "code",
   "execution_count": null,
   "id": "11a77839",
   "metadata": {},
   "outputs": [],
   "source": [
    "a = np.arange(10).reshape(2,-1)\n",
    "b = np.repeat(1, 10).reshape(2,-1)\n",
    "np.vstack([a,b])"
   ]
  },
  {
   "cell_type": "code",
   "execution_count": null,
   "id": "0f0fe110",
   "metadata": {},
   "outputs": [],
   "source": [
    "np.hstack([a,b])"
   ]
  },
  {
   "cell_type": "code",
   "execution_count": 18,
   "id": "1066561e",
   "metadata": {},
   "outputs": [
    {
     "data": {
      "text/plain": [
       "array([1, 1, 1, 1, 1, 1, 2, 2, 2, 2, 2, 2, 3, 3, 3, 3, 3, 3, 1, 2, 3, 1,\n",
       "       2, 3, 1, 2, 3])"
      ]
     },
     "execution_count": 18,
     "metadata": {},
     "output_type": "execute_result"
    }
   ],
   "source": [
    "a = np.array([1,2,3])\n",
    "np.hstack((np.repeat(a, 6), np.tile(a, 3)))"
   ]
  },
  {
   "cell_type": "code",
   "execution_count": null,
   "id": "4aec8d4f",
   "metadata": {},
   "outputs": [],
   "source": [
    "a = np.array([1,2,3,2,3,4,3,4,5,6])\n",
    "b = np.array([7,2,10,2,7,4,9,4,9,8])\n",
    "np.where(a==b)"
   ]
  },
  {
   "cell_type": "code",
   "execution_count": null,
   "id": "e1de6c0c",
   "metadata": {},
   "outputs": [],
   "source": [
    "arr = np.arange(9).reshape(3,3)\n",
    "\n",
    "print('Original array')\n",
    "print(arr)\n",
    "\n",
    "# Solution\n",
    "\n",
    "print(\"\\nModified array\")\n",
    "arr[:,]"
   ]
  },
  {
   "cell_type": "code",
   "execution_count": null,
   "id": "9b86c317",
   "metadata": {},
   "outputs": [],
   "source": [
    "#create numpy array with random  float numbers between 5 and 10 \n",
    "import random\n",
    "d=np.random.random((5,10))\n",
    "np.set_printoptions(threshold=4)\n",
    "d"
   ]
  },
  {
   "cell_type": "code",
   "execution_count": null,
   "id": "ab8ec847",
   "metadata": {},
   "outputs": [],
   "source": [
    "#two ways of computing aggregate functions from numpy array \n",
    "a.mean()\n",
    "np.mean(a)\n"
   ]
  },
  {
   "cell_type": "code",
   "execution_count": null,
   "id": "07b3d002",
   "metadata": {},
   "outputs": [],
   "source": [
    "np.isnan(a).any()#to check if any null value exists in the numpy arrray"
   ]
  },
  {
   "cell_type": "code",
   "execution_count": null,
   "id": "23e0090a",
   "metadata": {},
   "outputs": [],
   "source": [
    "bins = np.array([0, 3, 5, 7])\n",
    "inds = np.digitize(a.astype('float'), bins)\n",
    "np.set_printoptions(threshold=1)\n",
    "#print(inds)\n",
    "labels = {1:'small', 2: 'medium', 3:'large'}\n",
    "iris_cat_data = [labels[x] for x in inds]\n",
    "iris_cat_data[:10]"
   ]
  },
  {
   "cell_type": "code",
   "execution_count": 19,
   "id": "043bffe2",
   "metadata": {},
   "outputs": [
    {
     "name": "stdout",
     "output_type": "stream",
     "text": [
      "[0. 1. 2. 3. 4. 5.]\n"
     ]
    },
    {
     "data": {
      "text/plain": [
       "[array([0., 1., 2., 3.]),\n",
       " array([4.]),\n",
       " array([5.]),\n",
       " array([], dtype=float64),\n",
       " array([], dtype=float64)]"
      ]
     },
     "execution_count": 19,
     "metadata": {},
     "output_type": "execute_result"
    }
   ],
   "source": [
    "a = np.arange(6.0)\n",
    "print(a)\n",
    "np.split(a, [4, 5, 6, 7])"
   ]
  },
  {
   "cell_type": "code",
   "execution_count": null,
   "id": "aff24a65",
   "metadata": {},
   "outputs": [],
   "source": [
    "pip install numexpr"
   ]
  },
  {
   "cell_type": "markdown",
   "id": "29a6dc78",
   "metadata": {},
   "source": [
    "# Numexpr is a Python library that provides fast numerical expression evaluation in Python. It is designed to speed up numerical computations by optimizing and accelerating arithmetic operations on large arrays and matrices.\n",
    "\n",
    "## Numexpr achieves this by allowing the evaluation of numerical expressions that can be compiled to machine code using efficient CPU and memory utilization. This enables Numexpr to perform complex computations on large datasets more efficiently than traditional Python methods."
   ]
  },
  {
   "cell_type": "code",
   "execution_count": null,
   "id": "b5899cd3",
   "metadata": {},
   "outputs": [],
   "source": [
    "import numexpr as ne\n",
    "import timeit"
   ]
  },
  {
   "cell_type": "code",
   "execution_count": null,
   "id": "c1a74235",
   "metadata": {},
   "outputs": [],
   "source": [
    "%%timeit -n200 -r10\n",
    "ne.evaluate(\"m+c\")"
   ]
  },
  {
   "cell_type": "code",
   "execution_count": null,
   "id": "2e8b46c0",
   "metadata": {},
   "outputs": [],
   "source": [
    "%%timeit -n200 -r10\n",
    "m+c"
   ]
  },
  {
   "cell_type": "code",
   "execution_count": null,
   "id": "46d1794b",
   "metadata": {},
   "outputs": [],
   "source": [
    "#to check if two numpy arrays are equal\n",
    "array1 = np.array([0.12,0.17,0.24,0.29])\n",
    "array2 = np.array([0.12,0.19,0.26,0.31])\n",
    "array1==array2"
   ]
  },
  {
   "cell_type": "code",
   "execution_count": null,
   "id": "5afaa225",
   "metadata": {},
   "outputs": [],
   "source": [
    "np.allclose(array1,array2,0.1)\n",
    "np.allclose(array1,array2,0.2)\n"
   ]
  },
  {
   "cell_type": "code",
   "execution_count": null,
   "id": "d1e8ffb3",
   "metadata": {},
   "outputs": [],
   "source": [
    "x = np.array([3, 17, 14, 23, 2, 2, 6, 8, 1, 2, 16, 0])\n",
    "np.clip(x,2,5)#Given an interval, values outside the interval are clipped to the interval edges.np.clip()\n",
    "#is used to add lower and upper limit to the array\n"
   ]
  },
  {
   "cell_type": "code",
   "execution_count": 20,
   "id": "bd8c5ace",
   "metadata": {},
   "outputs": [
    {
     "data": {
      "text/plain": [
       "array(['Hit', 'Hit', 'Miss', 'Miss', 'Hit', 'Miss', 'Hit', 'Miss', 'Miss'],\n",
       "      dtype='<U4')"
      ]
     },
     "execution_count": 20,
     "metadata": {},
     "output_type": "execute_result"
    }
   ],
   "source": [
    "#using where as if else condition \n",
    "y = np.array([1,5,6,8,1,7,3,6,9])\n",
    "np.where(y>5,\"Miss\",\"Hit\")\n"
   ]
  }
 ],
 "metadata": {
  "kernelspec": {
   "display_name": "Python 3 (ipykernel)",
   "language": "python",
   "name": "python3"
  },
  "language_info": {
   "codemirror_mode": {
    "name": "ipython",
    "version": 3
   },
   "file_extension": ".py",
   "mimetype": "text/x-python",
   "name": "python",
   "nbconvert_exporter": "python",
   "pygments_lexer": "ipython3",
   "version": "3.9.12"
  }
 },
 "nbformat": 4,
 "nbformat_minor": 5
}
